{
 "cells": [
  {
   "cell_type": "markdown",
   "metadata": {},
   "source": [
    "<font size=\"6\">Introduction</font>\n",
    "\n",
    "This dataset provides information about all the Airbnb properties located in Bristol. It is composed by 2375 entries, with 28 features each. I will take a look at these variables, but first I have to load the packages that I will use and the dataset. "
   ]
  },
  {
   "cell_type": "code",
   "execution_count": 1,
   "metadata": {
    "collapsed": true
   },
   "outputs": [],
   "source": [
    "import pandas as pd\n",
    "import numpy as np\n",
    "import matplotlib.pyplot as plt\n",
    "import seaborn as sns\n",
    "import sklearn\n",
    "from sklearn.model_selection import cross_val_score"
   ]
  },
  {
   "cell_type": "code",
   "execution_count": 2,
   "metadata": {
    "collapsed": true
   },
   "outputs": [],
   "source": [
    "airbnb = pd.read_csv('BristolAirbnbListings.csv')"
   ]
  },
  {
   "cell_type": "code",
   "execution_count": 3,
   "metadata": {
    "collapsed": false
   },
   "outputs": [
    {
     "data": {
      "text/html": [
       "<div>\n",
       "<style>\n",
       "    .dataframe thead tr:only-child th {\n",
       "        text-align: right;\n",
       "    }\n",
       "\n",
       "    .dataframe thead th {\n",
       "        text-align: left;\n",
       "    }\n",
       "\n",
       "    .dataframe tbody tr th {\n",
       "        vertical-align: top;\n",
       "    }\n",
       "</style>\n",
       "<table border=\"1\" class=\"dataframe\">\n",
       "  <thead>\n",
       "    <tr style=\"text-align: right;\">\n",
       "      <th></th>\n",
       "      <th>id</th>\n",
       "      <th>name</th>\n",
       "      <th>host_id</th>\n",
       "      <th>host_name</th>\n",
       "      <th>neighbourhood</th>\n",
       "      <th>postcode</th>\n",
       "      <th>latitude</th>\n",
       "      <th>longitude</th>\n",
       "      <th>property_type</th>\n",
       "      <th>room_type</th>\n",
       "      <th>accommodates</th>\n",
       "      <th>bathrooms</th>\n",
       "      <th>bedrooms</th>\n",
       "      <th>beds</th>\n",
       "      <th>price</th>\n",
       "      <th>minimum_nights</th>\n",
       "      <th>number_of_reviews</th>\n",
       "      <th>last_review</th>\n",
       "      <th>reviews_per_month</th>\n",
       "      <th>review_scores_rating</th>\n",
       "      <th>review_scores_accuracy</th>\n",
       "      <th>review_scores_cleanliness</th>\n",
       "      <th>review_scores_checkin</th>\n",
       "      <th>review_scores_communication</th>\n",
       "      <th>review_scores_location</th>\n",
       "      <th>review_scores_value</th>\n",
       "      <th>calculated_host_listings_count</th>\n",
       "      <th>availability_365</th>\n",
       "    </tr>\n",
       "  </thead>\n",
       "  <tbody>\n",
       "    <tr>\n",
       "      <th>0</th>\n",
       "      <td>70820</td>\n",
       "      <td>City View - Sarah's double room.</td>\n",
       "      <td>360195</td>\n",
       "      <td>Sarah</td>\n",
       "      <td>Windmill Hill</td>\n",
       "      <td>BS3 4</td>\n",
       "      <td>51.439942</td>\n",
       "      <td>-2.591726</td>\n",
       "      <td>Townhouse</td>\n",
       "      <td>Private room</td>\n",
       "      <td>2</td>\n",
       "      <td>1</td>\n",
       "      <td>1</td>\n",
       "      <td>1</td>\n",
       "      <td>27</td>\n",
       "      <td>4</td>\n",
       "      <td>130</td>\n",
       "      <td>2018-09-28</td>\n",
       "      <td>2.10</td>\n",
       "      <td>96</td>\n",
       "      <td>10</td>\n",
       "      <td>9</td>\n",
       "      <td>10</td>\n",
       "      <td>10.0</td>\n",
       "      <td>10.0</td>\n",
       "      <td>10.0</td>\n",
       "      <td>5</td>\n",
       "      <td>44</td>\n",
       "    </tr>\n",
       "    <tr>\n",
       "      <th>1</th>\n",
       "      <td>117122</td>\n",
       "      <td>City Centre - Waterside Retreat</td>\n",
       "      <td>591555</td>\n",
       "      <td>Marcus</td>\n",
       "      <td>Clifton</td>\n",
       "      <td>BS8 4UJ</td>\n",
       "      <td>51.450512</td>\n",
       "      <td>-2.610536</td>\n",
       "      <td>Apartment</td>\n",
       "      <td>Private room</td>\n",
       "      <td>4</td>\n",
       "      <td>2</td>\n",
       "      <td>1</td>\n",
       "      <td>2</td>\n",
       "      <td>65</td>\n",
       "      <td>1</td>\n",
       "      <td>126</td>\n",
       "      <td>2018-10-28</td>\n",
       "      <td>1.40</td>\n",
       "      <td>99</td>\n",
       "      <td>10</td>\n",
       "      <td>10</td>\n",
       "      <td>10</td>\n",
       "      <td>10.0</td>\n",
       "      <td>10.0</td>\n",
       "      <td>10.0</td>\n",
       "      <td>1</td>\n",
       "      <td>360</td>\n",
       "    </tr>\n",
       "    <tr>\n",
       "      <th>2</th>\n",
       "      <td>146407</td>\n",
       "      <td>Sunny Central Artist Cottage (Dbl)</td>\n",
       "      <td>708175</td>\n",
       "      <td>Orla</td>\n",
       "      <td>Southville</td>\n",
       "      <td>BS3</td>\n",
       "      <td>51.441308</td>\n",
       "      <td>-2.602706</td>\n",
       "      <td>Townhouse</td>\n",
       "      <td>Private room</td>\n",
       "      <td>3</td>\n",
       "      <td>1</td>\n",
       "      <td>1</td>\n",
       "      <td>2</td>\n",
       "      <td>38</td>\n",
       "      <td>2</td>\n",
       "      <td>57</td>\n",
       "      <td>2018-09-12</td>\n",
       "      <td>0.76</td>\n",
       "      <td>91</td>\n",
       "      <td>9</td>\n",
       "      <td>8</td>\n",
       "      <td>9</td>\n",
       "      <td>10.0</td>\n",
       "      <td>9.0</td>\n",
       "      <td>9.0</td>\n",
       "      <td>2</td>\n",
       "      <td>46</td>\n",
       "    </tr>\n",
       "  </tbody>\n",
       "</table>\n",
       "</div>"
      ],
      "text/plain": [
       "       id                                name  host_id host_name  \\\n",
       "0   70820    City View - Sarah's double room.   360195     Sarah   \n",
       "1  117122     City Centre - Waterside Retreat   591555    Marcus   \n",
       "2  146407  Sunny Central Artist Cottage (Dbl)   708175      Orla   \n",
       "\n",
       "   neighbourhood postcode   latitude  longitude property_type     room_type  \\\n",
       "0  Windmill Hill    BS3 4  51.439942  -2.591726     Townhouse  Private room   \n",
       "1        Clifton  BS8 4UJ  51.450512  -2.610536     Apartment  Private room   \n",
       "2     Southville      BS3  51.441308  -2.602706     Townhouse  Private room   \n",
       "\n",
       "  accommodates bathrooms bedrooms beds  price  minimum_nights  \\\n",
       "0            2         1        1    1     27               4   \n",
       "1            4         2        1    2     65               1   \n",
       "2            3         1        1    2     38               2   \n",
       "\n",
       "   number_of_reviews last_review  reviews_per_month review_scores_rating  \\\n",
       "0                130  2018-09-28               2.10                   96   \n",
       "1                126  2018-10-28               1.40                   99   \n",
       "2                 57  2018-09-12               0.76                   91   \n",
       "\n",
       "  review_scores_accuracy review_scores_cleanliness review_scores_checkin  \\\n",
       "0                     10                         9                    10   \n",
       "1                     10                        10                    10   \n",
       "2                      9                         8                     9   \n",
       "\n",
       "   review_scores_communication  review_scores_location  review_scores_value  \\\n",
       "0                         10.0                    10.0                 10.0   \n",
       "1                         10.0                    10.0                 10.0   \n",
       "2                         10.0                     9.0                  9.0   \n",
       "\n",
       "   calculated_host_listings_count  availability_365  \n",
       "0                               5                44  \n",
       "1                               1               360  \n",
       "2                               2                46  "
      ]
     },
     "execution_count": 3,
     "metadata": {},
     "output_type": "execute_result"
    }
   ],
   "source": [
    "pd.options.display.max_columns = 28\n",
    "airbnb.head(3)"
   ]
  },
  {
   "cell_type": "markdown",
   "metadata": {},
   "source": [
    "Above we have the dataset and its first three entries and, in short, these are the variables:\n",
    "\n",
    "• Identification variables. They will not be useful for my analysis.\n",
    "\n",
    "• Location variables. Four features that express the location of the property.\n",
    "\n",
    "• Property and room type. They provide information about the basic characteristics of the accommodation. There are 24 types      of properties and 3 types of rooms. \n",
    "\n",
    "• Accommodates, bathrooms, bedrooms, and beds.\n",
    "\n",
    "• Price per night.\n",
    "\n",
    "• Availability variables, containing the minimum number of nights and how many days per year the property is available.\n",
    "\n",
    "• Review variables. There is a general review score and 6 variables regarding the review of specific aspects of the property, like its cleanliness or location. \n"
   ]
  },
  {
   "cell_type": "markdown",
   "metadata": {},
   "source": [
    "Knowing what is included in the dataset, I decided to perform two different analysis. Firstly, I will use different regression techniques to predict the price per night of the properties, something that could be useful for hosts. They can know, given the characteristics of their property, what would be a competitive price, compared to the price that guests are paying for similar accommodation. By doing so, they may avoid setting a lower or higher rate than the market price. \n",
    "\n",
    "\n",
    "\n",
    "On the second analysis I will use regression techniques as in the first analysis, but only using the reviews data. The aim of this analysis is to model the general review score using the review sub-scores. But, instead of creating the models for making predictions, I will rather use them to see which sub-scores explain better the general score. This will be useful for hosts. If they identify what the clients consider more important when using Airbnb, they will get better reviews and, therefore, more clients and profits. \n"
   ]
  },
  {
   "cell_type": "markdown",
   "metadata": {},
   "source": [
    "<font size=\"6\">Data cleaning and visualitation</font>\n",
    "\n",
    "Before starting with those analyses, I must clean the data and visualize its basic features.\n",
    "\n",
    "Firstly, I am deleting the variables that are not going to be useful for any of my purposes. The deleted variables will be the identification variables, which are only used to identify the property and its owner, and the last review date."
   ]
  },
  {
   "cell_type": "code",
   "execution_count": 4,
   "metadata": {
    "collapsed": true
   },
   "outputs": [],
   "source": [
    "del airbnb[\"id\"]\n",
    "del airbnb[\"name\"]\n",
    "del airbnb[\"host_id\"]\n",
    "del airbnb[\"host_name\"]\n",
    "del airbnb[\"last_review\"]"
   ]
  },
  {
   "cell_type": "markdown",
   "metadata": {},
   "source": [
    "Now I am going to check the type of data of each column and to convert the data into a more suitable type whether it is necessary. "
   ]
  },
  {
   "cell_type": "code",
   "execution_count": 5,
   "metadata": {
    "collapsed": false
   },
   "outputs": [
    {
     "data": {
      "text/plain": [
       "neighbourhood                      object\n",
       "postcode                           object\n",
       "latitude                          float64\n",
       "longitude                         float64\n",
       "property_type                      object\n",
       "room_type                          object\n",
       "accommodates                       object\n",
       "bathrooms                          object\n",
       "bedrooms                           object\n",
       "beds                               object\n",
       "price                               int64\n",
       "minimum_nights                      int64\n",
       "number_of_reviews                   int64\n",
       "reviews_per_month                 float64\n",
       "review_scores_rating               object\n",
       "review_scores_accuracy             object\n",
       "review_scores_cleanliness          object\n",
       "review_scores_checkin              object\n",
       "review_scores_communication       float64\n",
       "review_scores_location            float64\n",
       "review_scores_value               float64\n",
       "calculated_host_listings_count      int64\n",
       "availability_365                    int64\n",
       "dtype: object"
      ]
     },
     "execution_count": 5,
     "metadata": {},
     "output_type": "execute_result"
    }
   ],
   "source": [
    "airbnb.dtypes"
   ]
  },
  {
   "cell_type": "code",
   "execution_count": 6,
   "metadata": {
    "collapsed": true
   },
   "outputs": [],
   "source": [
    "#Converting review scores from object to numeric.\n",
    "airbnb[\"review_scores_rating\"] = pd.to_numeric(airbnb[\"review_scores_rating\"], errors = \"coerce\")\n",
    "airbnb[\"review_scores_accuracy\"] = pd.to_numeric(airbnb[\"review_scores_accuracy\"], errors = \"coerce\")\n",
    "airbnb[\"review_scores_cleanliness\"] = pd.to_numeric(airbnb[\"review_scores_cleanliness\"], errors = \"coerce\")\n",
    "airbnb[\"review_scores_checkin\"] = pd.to_numeric(airbnb[\"review_scores_checkin\"], errors = \"coerce\")\n"
   ]
  },
  {
   "cell_type": "code",
   "execution_count": 7,
   "metadata": {
    "collapsed": false
   },
   "outputs": [],
   "source": [
    "airbnb[\"room_type\"] = airbnb[\"room_type\"].astype(\"category\")\n",
    "airbnb[\"property_type\"] = airbnb[\"property_type\"].astype(\"category\")\n",
    "\n",
    "                      "
   ]
  },
  {
   "cell_type": "code",
   "execution_count": 8,
   "metadata": {
    "collapsed": true
   },
   "outputs": [],
   "source": [
    "airbnb[\"accommodates\"] = pd.to_numeric(airbnb[\"accommodates\"], errors = \"coerce\")\n",
    "airbnb[\"bathrooms\"] = pd.to_numeric(airbnb[\"bathrooms\"], errors = \"coerce\")\n",
    "airbnb[\"bedrooms\"] = pd.to_numeric(airbnb[\"bedrooms\"], errors = \"coerce\")\n",
    "airbnb[\"beds\"] = pd.to_numeric(airbnb[\"beds\"], errors = \"coerce\")\n"
   ]
  },
  {
   "cell_type": "markdown",
   "metadata": {},
   "source": [
    "Having converted the data, I will check now if there are missing values and outliers on the dataset."
   ]
  },
  {
   "cell_type": "code",
   "execution_count": 9,
   "metadata": {
    "collapsed": false
   },
   "outputs": [
    {
     "data": {
      "text/plain": [
       "neighbourhood                       0\n",
       "postcode                           49\n",
       "latitude                            0\n",
       "longitude                           0\n",
       "property_type                       0\n",
       "room_type                           0\n",
       "accommodates                       22\n",
       "bathrooms                           6\n",
       "bedrooms                            4\n",
       "beds                                4\n",
       "price                               0\n",
       "minimum_nights                      0\n",
       "number_of_reviews                   0\n",
       "reviews_per_month                 306\n",
       "review_scores_rating              356\n",
       "review_scores_accuracy            340\n",
       "review_scores_cleanliness         339\n",
       "review_scores_checkin             341\n",
       "review_scores_communication       338\n",
       "review_scores_location            340\n",
       "review_scores_value               340\n",
       "calculated_host_listings_count      0\n",
       "availability_365                    0\n",
       "dtype: int64"
      ]
     },
     "execution_count": 9,
     "metadata": {},
     "output_type": "execute_result"
    }
   ],
   "source": [
    "#Finding missing values\n",
    "pd.isnull(airbnb).sum()"
   ]
  },
  {
   "cell_type": "markdown",
   "metadata": {},
   "source": [
    "There are plenty of missing values for the review scores, apart from some other NaN in postcode, accommodates and in other variables. Firstly I will delete the rows without a value for \"review scores rating\" because its the variable with most missing values and, hopefully, the NaNs of other features will be removed."
   ]
  },
  {
   "cell_type": "code",
   "execution_count": 10,
   "metadata": {
    "collapsed": true
   },
   "outputs": [],
   "source": [
    "#Deleting empty rows. After running this I notice that, fortunately, the same rows lack from all the revies score\n",
    " \n",
    "airbnb = airbnb.dropna(subset = ['review_scores_rating'])\n"
   ]
  },
  {
   "cell_type": "code",
   "execution_count": 11,
   "metadata": {
    "collapsed": false
   },
   "outputs": [
    {
     "data": {
      "text/plain": [
       "neighbourhood                      0\n",
       "postcode                          39\n",
       "latitude                           0\n",
       "longitude                          0\n",
       "property_type                      0\n",
       "room_type                          0\n",
       "accommodates                       1\n",
       "bathrooms                          3\n",
       "bedrooms                           4\n",
       "beds                               3\n",
       "price                              0\n",
       "minimum_nights                     0\n",
       "number_of_reviews                  0\n",
       "reviews_per_month                  0\n",
       "review_scores_rating               0\n",
       "review_scores_accuracy             1\n",
       "review_scores_cleanliness          2\n",
       "review_scores_checkin              4\n",
       "review_scores_communication        1\n",
       "review_scores_location             3\n",
       "review_scores_value                3\n",
       "calculated_host_listings_count     0\n",
       "availability_365                   0\n",
       "dtype: int64"
      ]
     },
     "execution_count": 11,
     "metadata": {},
     "output_type": "execute_result"
    }
   ],
   "source": [
    "pd.isnull(airbnb).sum()"
   ]
  },
  {
   "cell_type": "markdown",
   "metadata": {},
   "source": [
    "With that action, I almost removed all the missing values in the dataset. Now what I will do is to drop the postcode variable, because it has some missing values and it is possibly highly correlated with the neighbourhood variable, which has no missing values. In fact, having a significant correlation between variables can affect negatively to some models."
   ]
  },
  {
   "cell_type": "code",
   "execution_count": 12,
   "metadata": {
    "collapsed": false
   },
   "outputs": [],
   "source": [
    "del airbnb[\"postcode\"]"
   ]
  },
  {
   "cell_type": "markdown",
   "metadata": {},
   "source": [
    "Now, provided that there are only a few values missing, I will replace the NaNs with the median value of the feature. \n",
    "This will be done for all the variables with missing values that we can see in the above output. "
   ]
  },
  {
   "cell_type": "code",
   "execution_count": 13,
   "metadata": {
    "collapsed": false
   },
   "outputs": [],
   "source": [
    "#Changing missing values with the median. There are just a few values missing, \n",
    "beds_median = airbnb[\"beds\"].median()\n",
    "bath_median = airbnb[\"bathrooms\"].median()\n",
    "bedr_mediean = airbnb[\"bedrooms\"].median()\n",
    "acc_median = airbnb[\"accommodates\"].median()\n",
    "airbnb[\"beds\"].fillna(beds_median, inplace=True)\n",
    "airbnb[\"bathrooms\"].fillna(bath_median, inplace=True)\n",
    "airbnb[\"bedrooms\"].fillna(bath_median, inplace=True)\n",
    "airbnb[\"accommodates\"].fillna(bath_median, inplace=True)"
   ]
  },
  {
   "cell_type": "code",
   "execution_count": 14,
   "metadata": {
    "collapsed": true
   },
   "outputs": [],
   "source": [
    "acc_median = airbnb[\"review_scores_accuracy\"].median()\n",
    "cle_median = airbnb[\"review_scores_cleanliness\"].median()\n",
    "check_median = airbnb[\"review_scores_checkin\"].median()\n",
    "comm_median = airbnb[\"review_scores_communication\"].median()\n",
    "loca_median = airbnb[\"review_scores_location\"].median()\n",
    "value_median = airbnb[\"review_scores_value\"].median()\n",
    "airbnb[\"review_scores_accuracy\"].fillna(acc_median, inplace=True)\n",
    "airbnb[\"review_scores_cleanliness\"].fillna(cle_median, inplace=True)\n",
    "airbnb[\"review_scores_checkin\"].fillna(check_median, inplace=True)\n",
    "airbnb[\"review_scores_communication\"].fillna(comm_median, inplace=True)\n",
    "airbnb[\"review_scores_location\"].fillna(loca_median, inplace=True)\n",
    "airbnb[\"review_scores_value\"].fillna(value_median, inplace=True)"
   ]
  },
  {
   "cell_type": "markdown",
   "metadata": {
    "collapsed": false
   },
   "source": [
    "Now there are no NaNs on the dataset. Now I will check how many observations I lost, and then I will start to look for outliers whithin the dataset."
   ]
  },
  {
   "cell_type": "code",
   "execution_count": 15,
   "metadata": {
    "collapsed": false
   },
   "outputs": [
    {
     "data": {
      "text/plain": [
       "2019"
      ]
     },
     "execution_count": 15,
     "metadata": {},
     "output_type": "execute_result"
    }
   ],
   "source": [
    "len(airbnb)"
   ]
  },
  {
   "cell_type": "markdown",
   "metadata": {},
   "source": [
    "I went from 2375 rows to 2019, which means that I lost almost 15% of the observations. Now I will produce some plots to look for outliers, starting with a box plot of the price. As we see, there are some values far away from the average. "
   ]
  },
  {
   "cell_type": "code",
   "execution_count": 16,
   "metadata": {
    "collapsed": false
   },
   "outputs": [
    {
     "data": {
      "image/png": "[encoded data removed]",
      "text/plain": [
       "<matplotlib.figure.Figure at 0x1c85469fe48>"
      ]
     },
     "metadata": {},
     "output_type": "display_data"
    }
   ],
   "source": [
    "plt.boxplot(airbnb['price'])\n",
    "plt.title(\"Price Boxplot\")\n",
    "plt.show()"
   ]
  },
  {
   "cell_type": "markdown",
   "metadata": {},
   "source": [
    "There are at least two clear outliers. I will check the features of the observations with a high price and check whether the high cost is \"explained\" by some of the features or it is indeed an outlier."
   ]
  },
  {
   "cell_type": "code",
   "execution_count": 17,
   "metadata": {
    "collapsed": false
   },
   "outputs": [
    {
     "data": {
      "text/html": [
       "<div>\n",
       "<style>\n",
       "    .dataframe thead tr:only-child th {\n",
       "        text-align: right;\n",
       "    }\n",
       "\n",
       "    .dataframe thead th {\n",
       "        text-align: left;\n",
       "    }\n",
       "\n",
       "    .dataframe tbody tr th {\n",
       "        vertical-align: top;\n",
       "    }\n",
       "</style>\n",
       "<table border=\"1\" class=\"dataframe\">\n",
       "  <thead>\n",
       "    <tr style=\"text-align: right;\">\n",
       "      <th></th>\n",
       "      <th>neighbourhood</th>\n",
       "      <th>latitude</th>\n",
       "      <th>longitude</th>\n",
       "      <th>property_type</th>\n",
       "      <th>room_type</th>\n",
       "      <th>accommodates</th>\n",
       "      <th>bathrooms</th>\n",
       "      <th>bedrooms</th>\n",
       "      <th>beds</th>\n",
       "      <th>price</th>\n",
       "      <th>minimum_nights</th>\n",
       "      <th>number_of_reviews</th>\n",
       "      <th>reviews_per_month</th>\n",
       "      <th>review_scores_rating</th>\n",
       "      <th>review_scores_accuracy</th>\n",
       "      <th>review_scores_cleanliness</th>\n",
       "      <th>review_scores_checkin</th>\n",
       "      <th>review_scores_communication</th>\n",
       "      <th>review_scores_location</th>\n",
       "      <th>review_scores_value</th>\n",
       "      <th>calculated_host_listings_count</th>\n",
       "      <th>availability_365</th>\n",
       "    </tr>\n",
       "  </thead>\n",
       "  <tbody>\n",
       "    <tr>\n",
       "      <th>859</th>\n",
       "      <td>Ashley</td>\n",
       "      <td>51.463463</td>\n",
       "      <td>-2.585318</td>\n",
       "      <td>Townhouse</td>\n",
       "      <td>Entire home/apt</td>\n",
       "      <td>16.0</td>\n",
       "      <td>3.0</td>\n",
       "      <td>7.0</td>\n",
       "      <td>13.0</td>\n",
       "      <td>799</td>\n",
       "      <td>1</td>\n",
       "      <td>41</td>\n",
       "      <td>2.04</td>\n",
       "      <td>98.0</td>\n",
       "      <td>10.0</td>\n",
       "      <td>10.0</td>\n",
       "      <td>10.0</td>\n",
       "      <td>10.0</td>\n",
       "      <td>9.0</td>\n",
       "      <td>9.0</td>\n",
       "      <td>9</td>\n",
       "      <td>235</td>\n",
       "    </tr>\n",
       "    <tr>\n",
       "      <th>976</th>\n",
       "      <td>Easton</td>\n",
       "      <td>51.468726</td>\n",
       "      <td>-2.557538</td>\n",
       "      <td>House</td>\n",
       "      <td>Entire home/apt</td>\n",
       "      <td>8.0</td>\n",
       "      <td>1.5</td>\n",
       "      <td>5.0</td>\n",
       "      <td>7.0</td>\n",
       "      <td>550</td>\n",
       "      <td>1</td>\n",
       "      <td>4</td>\n",
       "      <td>0.22</td>\n",
       "      <td>100.0</td>\n",
       "      <td>9.0</td>\n",
       "      <td>10.0</td>\n",
       "      <td>10.0</td>\n",
       "      <td>10.0</td>\n",
       "      <td>9.0</td>\n",
       "      <td>8.0</td>\n",
       "      <td>2</td>\n",
       "      <td>363</td>\n",
       "    </tr>\n",
       "    <tr>\n",
       "      <th>1240</th>\n",
       "      <td>Hotwells &amp; Harbourside</td>\n",
       "      <td>51.454807</td>\n",
       "      <td>-2.604969</td>\n",
       "      <td>Apartment</td>\n",
       "      <td>Entire home/apt</td>\n",
       "      <td>16.0</td>\n",
       "      <td>4.0</td>\n",
       "      <td>4.0</td>\n",
       "      <td>14.0</td>\n",
       "      <td>500</td>\n",
       "      <td>1</td>\n",
       "      <td>21</td>\n",
       "      <td>1.49</td>\n",
       "      <td>97.0</td>\n",
       "      <td>10.0</td>\n",
       "      <td>10.0</td>\n",
       "      <td>10.0</td>\n",
       "      <td>10.0</td>\n",
       "      <td>10.0</td>\n",
       "      <td>9.0</td>\n",
       "      <td>12</td>\n",
       "      <td>173</td>\n",
       "    </tr>\n",
       "    <tr>\n",
       "      <th>1345</th>\n",
       "      <td>Central</td>\n",
       "      <td>51.456477</td>\n",
       "      <td>-2.604660</td>\n",
       "      <td>Apartment</td>\n",
       "      <td>Entire home/apt</td>\n",
       "      <td>16.0</td>\n",
       "      <td>5.0</td>\n",
       "      <td>5.0</td>\n",
       "      <td>16.0</td>\n",
       "      <td>500</td>\n",
       "      <td>1</td>\n",
       "      <td>9</td>\n",
       "      <td>1.21</td>\n",
       "      <td>98.0</td>\n",
       "      <td>10.0</td>\n",
       "      <td>10.0</td>\n",
       "      <td>10.0</td>\n",
       "      <td>10.0</td>\n",
       "      <td>10.0</td>\n",
       "      <td>10.0</td>\n",
       "      <td>12</td>\n",
       "      <td>169</td>\n",
       "    </tr>\n",
       "    <tr>\n",
       "      <th>1482</th>\n",
       "      <td>Brislington East</td>\n",
       "      <td>51.441210</td>\n",
       "      <td>-2.536662</td>\n",
       "      <td>Villa</td>\n",
       "      <td>Entire home/apt</td>\n",
       "      <td>16.0</td>\n",
       "      <td>12.5</td>\n",
       "      <td>13.0</td>\n",
       "      <td>24.0</td>\n",
       "      <td>1600</td>\n",
       "      <td>1</td>\n",
       "      <td>15</td>\n",
       "      <td>2.01</td>\n",
       "      <td>97.0</td>\n",
       "      <td>10.0</td>\n",
       "      <td>10.0</td>\n",
       "      <td>10.0</td>\n",
       "      <td>10.0</td>\n",
       "      <td>10.0</td>\n",
       "      <td>10.0</td>\n",
       "      <td>1</td>\n",
       "      <td>113</td>\n",
       "    </tr>\n",
       "    <tr>\n",
       "      <th>1659</th>\n",
       "      <td>Ashley</td>\n",
       "      <td>51.465065</td>\n",
       "      <td>-2.584095</td>\n",
       "      <td>Apartment</td>\n",
       "      <td>Entire home/apt</td>\n",
       "      <td>10.0</td>\n",
       "      <td>2.0</td>\n",
       "      <td>3.0</td>\n",
       "      <td>10.0</td>\n",
       "      <td>600</td>\n",
       "      <td>1</td>\n",
       "      <td>1</td>\n",
       "      <td>1.00</td>\n",
       "      <td>60.0</td>\n",
       "      <td>6.0</td>\n",
       "      <td>10.0</td>\n",
       "      <td>10.0</td>\n",
       "      <td>8.0</td>\n",
       "      <td>8.0</td>\n",
       "      <td>6.0</td>\n",
       "      <td>3</td>\n",
       "      <td>355</td>\n",
       "    </tr>\n",
       "    <tr>\n",
       "      <th>1809</th>\n",
       "      <td>Central</td>\n",
       "      <td>51.461313</td>\n",
       "      <td>-2.593283</td>\n",
       "      <td>Serviced apartment</td>\n",
       "      <td>Entire home/apt</td>\n",
       "      <td>2.0</td>\n",
       "      <td>1.0</td>\n",
       "      <td>1.0</td>\n",
       "      <td>1.0</td>\n",
       "      <td>750</td>\n",
       "      <td>1</td>\n",
       "      <td>1</td>\n",
       "      <td>0.29</td>\n",
       "      <td>100.0</td>\n",
       "      <td>10.0</td>\n",
       "      <td>10.0</td>\n",
       "      <td>10.0</td>\n",
       "      <td>10.0</td>\n",
       "      <td>10.0</td>\n",
       "      <td>10.0</td>\n",
       "      <td>14</td>\n",
       "      <td>354</td>\n",
       "    </tr>\n",
       "    <tr>\n",
       "      <th>2201</th>\n",
       "      <td>Windmill Hill</td>\n",
       "      <td>51.438067</td>\n",
       "      <td>-2.595130</td>\n",
       "      <td>Townhouse</td>\n",
       "      <td>Entire home/apt</td>\n",
       "      <td>13.0</td>\n",
       "      <td>1.5</td>\n",
       "      <td>4.0</td>\n",
       "      <td>10.0</td>\n",
       "      <td>5000</td>\n",
       "      <td>1</td>\n",
       "      <td>1</td>\n",
       "      <td>1.00</td>\n",
       "      <td>100.0</td>\n",
       "      <td>8.0</td>\n",
       "      <td>10.0</td>\n",
       "      <td>10.0</td>\n",
       "      <td>10.0</td>\n",
       "      <td>10.0</td>\n",
       "      <td>8.0</td>\n",
       "      <td>5</td>\n",
       "      <td>350</td>\n",
       "    </tr>\n",
       "  </tbody>\n",
       "</table>\n",
       "</div>"
      ],
      "text/plain": [
       "               neighbourhood   latitude  longitude       property_type  \\\n",
       "859                   Ashley  51.463463  -2.585318           Townhouse   \n",
       "976                   Easton  51.468726  -2.557538               House   \n",
       "1240  Hotwells & Harbourside  51.454807  -2.604969           Apartment   \n",
       "1345                 Central  51.456477  -2.604660           Apartment   \n",
       "1482        Brislington East  51.441210  -2.536662               Villa   \n",
       "1659                  Ashley  51.465065  -2.584095           Apartment   \n",
       "1809                 Central  51.461313  -2.593283  Serviced apartment   \n",
       "2201           Windmill Hill  51.438067  -2.595130           Townhouse   \n",
       "\n",
       "            room_type  accommodates  bathrooms  bedrooms  beds  price  \\\n",
       "859   Entire home/apt          16.0        3.0       7.0  13.0    799   \n",
       "976   Entire home/apt           8.0        1.5       5.0   7.0    550   \n",
       "1240  Entire home/apt          16.0        4.0       4.0  14.0    500   \n",
       "1345  Entire home/apt          16.0        5.0       5.0  16.0    500   \n",
       "1482  Entire home/apt          16.0       12.5      13.0  24.0   1600   \n",
       "1659  Entire home/apt          10.0        2.0       3.0  10.0    600   \n",
       "1809  Entire home/apt           2.0        1.0       1.0   1.0    750   \n",
       "2201  Entire home/apt          13.0        1.5       4.0  10.0   5000   \n",
       "\n",
       "      minimum_nights  number_of_reviews  reviews_per_month  \\\n",
       "859                1                 41               2.04   \n",
       "976                1                  4               0.22   \n",
       "1240               1                 21               1.49   \n",
       "1345               1                  9               1.21   \n",
       "1482               1                 15               2.01   \n",
       "1659               1                  1               1.00   \n",
       "1809               1                  1               0.29   \n",
       "2201               1                  1               1.00   \n",
       "\n",
       "      review_scores_rating  review_scores_accuracy  review_scores_cleanliness  \\\n",
       "859                   98.0                    10.0                       10.0   \n",
       "976                  100.0                     9.0                       10.0   \n",
       "1240                  97.0                    10.0                       10.0   \n",
       "1345                  98.0                    10.0                       10.0   \n",
       "1482                  97.0                    10.0                       10.0   \n",
       "1659                  60.0                     6.0                       10.0   \n",
       "1809                 100.0                    10.0                       10.0   \n",
       "2201                 100.0                     8.0                       10.0   \n",
       "\n",
       "      review_scores_checkin  review_scores_communication  \\\n",
       "859                    10.0                         10.0   \n",
       "976                    10.0                         10.0   \n",
       "1240                   10.0                         10.0   \n",
       "1345                   10.0                         10.0   \n",
       "1482                   10.0                         10.0   \n",
       "1659                   10.0                          8.0   \n",
       "1809                   10.0                         10.0   \n",
       "2201                   10.0                         10.0   \n",
       "\n",
       "      review_scores_location  review_scores_value  \\\n",
       "859                      9.0                  9.0   \n",
       "976                      9.0                  8.0   \n",
       "1240                    10.0                  9.0   \n",
       "1345                    10.0                 10.0   \n",
       "1482                    10.0                 10.0   \n",
       "1659                     8.0                  6.0   \n",
       "1809                    10.0                 10.0   \n",
       "2201                    10.0                  8.0   \n",
       "\n",
       "      calculated_host_listings_count  availability_365  \n",
       "859                                9               235  \n",
       "976                                2               363  \n",
       "1240                              12               173  \n",
       "1345                              12               169  \n",
       "1482                               1               113  \n",
       "1659                               3               355  \n",
       "1809                              14               354  \n",
       "2201                               5               350  "
      ]
     },
     "execution_count": 17,
     "metadata": {},
     "output_type": "execute_result"
    }
   ],
   "source": [
    "airbnb[airbnb[\"price\"] >= 500]"
   ]
  },
  {
   "cell_type": "markdown",
   "metadata": {},
   "source": [
    "Seeing this information, I am going to drop the rows in which the price is bigger than 500. Although these observations seem real, they are really uncommon. Here, I am dealing with very big properties that can allocate a big number of accommodates. \n",
    "As long as there are only 7 observations, I do not lose a big part of the data, and my models will be more accurate. "
   ]
  },
  {
   "cell_type": "code",
   "execution_count": 18,
   "metadata": {
    "collapsed": true
   },
   "outputs": [],
   "source": [
    "airbnb = airbnb[airbnb[\"price\"] <= 500]"
   ]
  },
  {
   "cell_type": "code",
   "execution_count": 19,
   "metadata": {
    "collapsed": false
   },
   "outputs": [],
   "source": [
    "airbnb = airbnb[airbnb[\"price\"] > 0]"
   ]
  },
  {
   "cell_type": "markdown",
   "metadata": {},
   "source": [
    "I have also checked is there is any price equal (or less) to zero, and actually there is one value. I proceeded to drop it. "
   ]
  },
  {
   "cell_type": "code",
   "execution_count": 20,
   "metadata": {
    "collapsed": false
   },
   "outputs": [
    {
     "data": {
      "text/plain": [
       "2012"
      ]
     },
     "execution_count": 20,
     "metadata": {},
     "output_type": "execute_result"
    }
   ],
   "source": [
    "len(airbnb)"
   ]
  },
  {
   "cell_type": "markdown",
   "metadata": {},
   "source": [
    "Now my dataset is composed of 2012 entries, so I have not lost many rows dealing with the outliers. Below I have plotted the final distribution of the price (although it may change a bit if I change or delete rows in the next steps). "
   ]
  },
  {
   "cell_type": "code",
   "execution_count": 21,
   "metadata": {
    "collapsed": false
   },
   "outputs": [
    {
     "data": {
      "image/png": "[encoded data removed]",
      "text/plain": [
       "<matplotlib.figure.Figure at 0x1c853e3df98>"
      ]
     },
     "metadata": {},
     "output_type": "display_data"
    }
   ],
   "source": [
    "plt.boxplot(airbnb['price'])\n",
    "plt.title(\"Price Boxplot\")\n",
    "plt.show()"
   ]
  },
  {
   "cell_type": "markdown",
   "metadata": {},
   "source": [
    "Now I am taking a look at the other variables with possible outliers or wrong entries. It will also be useful for getting a first insight of these variables."
   ]
  },
  {
   "cell_type": "code",
   "execution_count": 22,
   "metadata": {
    "collapsed": false
   },
   "outputs": [
    {
     "data": {
      "image/png": "[encoded data removed]",
      "text/plain": [
       "<matplotlib.figure.Figure at 0x1c853e2cbe0>"
      ]
     },
     "metadata": {},
     "output_type": "display_data"
    }
   ],
   "source": [
    "property_types = airbnb[\"property_type\"].value_counts()\n",
    "property_types = property_types[property_types > 0] #There is no observations for some of the property types.\n",
    "property_types.plot.bar()\n",
    "plt.xlabel(\"property_type\")\n",
    "plt.ylabel(\"Count\")\n",
    "plt.title(\"Property Types\")\n",
    "plt.show()\n"
   ]
  },
  {
   "cell_type": "code",
   "execution_count": 23,
   "metadata": {
    "collapsed": false
   },
   "outputs": [
    {
     "data": {
      "image/png": "[encoded data removed]",
      "text/plain": [
       "<matplotlib.figure.Figure at 0x1c853f7fc18>"
      ]
     },
     "metadata": {},
     "output_type": "display_data"
    }
   ],
   "source": [
    "airbnb[\"neighbourhood\"].value_counts().plot.bar()\n",
    "plt.xlabel(\"Neighbourhood\")\n",
    "plt.ylabel(\"Count\")\n",
    "plt.title(\"Neighbourhood\")\n",
    "plt.show()\n"
   ]
  },
  {
   "cell_type": "code",
   "execution_count": 24,
   "metadata": {
    "collapsed": false
   },
   "outputs": [
    {
     "data": {
      "image/png": "[encoded data removed]",
      "text/plain": [
       "<matplotlib.figure.Figure at 0x1c8540ab780>"
      ]
     },
     "metadata": {},
     "output_type": "display_data"
    }
   ],
   "source": [
    "airbnb[\"room_type\"].value_counts().plot.bar()\n",
    "plt.xlabel(\"room_type\")\n",
    "plt.ylabel(\"Count\")\n",
    "plt.title(\"Room Types\")\n",
    "plt.show()"
   ]
  },
  {
   "cell_type": "code",
   "execution_count": 25,
   "metadata": {
    "collapsed": false
   },
   "outputs": [
    {
     "data": {
      "image/png": "[encoded data removed]",
      "text/plain": [
       "<matplotlib.figure.Figure at 0x1c8540e6a90>"
      ]
     },
     "metadata": {},
     "output_type": "display_data"
    }
   ],
   "source": [
    "airbnb[\"bedrooms\"].value_counts().plot.bar()\n",
    "plt.xlabel(\"number of bedrooms\")\n",
    "plt.ylabel(\"Count\")\n",
    "plt.title(\"Number of Bedrooms\")\n",
    "plt.show()\n"
   ]
  },
  {
   "cell_type": "markdown",
   "metadata": {},
   "source": [
    "Here there is a problem, the dataset has some observations in which the number of bedrooms is 0. This can be correct or not, so I will take a look into the characteristics of the rows with 0 bedrooms and then I will decide what to do with them. "
   ]
  },
  {
   "cell_type": "code",
   "execution_count": 26,
   "metadata": {
    "collapsed": false
   },
   "outputs": [
    {
     "data": {
      "text/html": [
       "<div>\n",
       "<style>\n",
       "    .dataframe thead tr:only-child th {\n",
       "        text-align: right;\n",
       "    }\n",
       "\n",
       "    .dataframe thead th {\n",
       "        text-align: left;\n",
       "    }\n",
       "\n",
       "    .dataframe tbody tr th {\n",
       "        vertical-align: top;\n",
       "    }\n",
       "</style>\n",
       "<table border=\"1\" class=\"dataframe\">\n",
       "  <thead>\n",
       "    <tr style=\"text-align: right;\">\n",
       "      <th></th>\n",
       "      <th>neighbourhood</th>\n",
       "      <th>latitude</th>\n",
       "      <th>longitude</th>\n",
       "      <th>property_type</th>\n",
       "      <th>room_type</th>\n",
       "      <th>accommodates</th>\n",
       "      <th>bathrooms</th>\n",
       "      <th>bedrooms</th>\n",
       "      <th>beds</th>\n",
       "      <th>price</th>\n",
       "      <th>minimum_nights</th>\n",
       "      <th>number_of_reviews</th>\n",
       "      <th>reviews_per_month</th>\n",
       "      <th>review_scores_rating</th>\n",
       "      <th>review_scores_accuracy</th>\n",
       "      <th>review_scores_cleanliness</th>\n",
       "      <th>review_scores_checkin</th>\n",
       "      <th>review_scores_communication</th>\n",
       "      <th>review_scores_location</th>\n",
       "      <th>review_scores_value</th>\n",
       "      <th>calculated_host_listings_count</th>\n",
       "      <th>availability_365</th>\n",
       "    </tr>\n",
       "  </thead>\n",
       "  <tbody>\n",
       "    <tr>\n",
       "      <th>98</th>\n",
       "      <td>Frome Vale</td>\n",
       "      <td>51.483552</td>\n",
       "      <td>-2.526815</td>\n",
       "      <td>Townhouse</td>\n",
       "      <td>Private room</td>\n",
       "      <td>1.0</td>\n",
       "      <td>1.0</td>\n",
       "      <td>0.0</td>\n",
       "      <td>1.0</td>\n",
       "      <td>30</td>\n",
       "      <td>1</td>\n",
       "      <td>9</td>\n",
       "      <td>0.17</td>\n",
       "      <td>95.0</td>\n",
       "      <td>10.0</td>\n",
       "      <td>10.0</td>\n",
       "      <td>10.0</td>\n",
       "      <td>10.0</td>\n",
       "      <td>10.0</td>\n",
       "      <td>9.0</td>\n",
       "      <td>1</td>\n",
       "      <td>88</td>\n",
       "    </tr>\n",
       "    <tr>\n",
       "      <th>130</th>\n",
       "      <td>Brislington East</td>\n",
       "      <td>51.451656</td>\n",
       "      <td>-2.545024</td>\n",
       "      <td>Apartment</td>\n",
       "      <td>Entire home/apt</td>\n",
       "      <td>2.0</td>\n",
       "      <td>1.0</td>\n",
       "      <td>0.0</td>\n",
       "      <td>1.0</td>\n",
       "      <td>65</td>\n",
       "      <td>2</td>\n",
       "      <td>90</td>\n",
       "      <td>1.93</td>\n",
       "      <td>91.0</td>\n",
       "      <td>10.0</td>\n",
       "      <td>9.0</td>\n",
       "      <td>10.0</td>\n",
       "      <td>10.0</td>\n",
       "      <td>9.0</td>\n",
       "      <td>9.0</td>\n",
       "      <td>1</td>\n",
       "      <td>289</td>\n",
       "    </tr>\n",
       "    <tr>\n",
       "      <th>243</th>\n",
       "      <td>Clifton</td>\n",
       "      <td>51.457606</td>\n",
       "      <td>-2.618214</td>\n",
       "      <td>Loft</td>\n",
       "      <td>Entire home/apt</td>\n",
       "      <td>2.0</td>\n",
       "      <td>1.0</td>\n",
       "      <td>0.0</td>\n",
       "      <td>1.0</td>\n",
       "      <td>70</td>\n",
       "      <td>2</td>\n",
       "      <td>67</td>\n",
       "      <td>1.70</td>\n",
       "      <td>98.0</td>\n",
       "      <td>10.0</td>\n",
       "      <td>10.0</td>\n",
       "      <td>10.0</td>\n",
       "      <td>10.0</td>\n",
       "      <td>10.0</td>\n",
       "      <td>9.0</td>\n",
       "      <td>1</td>\n",
       "      <td>272</td>\n",
       "    </tr>\n",
       "    <tr>\n",
       "      <th>257</th>\n",
       "      <td>Ashley</td>\n",
       "      <td>51.459291</td>\n",
       "      <td>-2.585784</td>\n",
       "      <td>Apartment</td>\n",
       "      <td>Entire home/apt</td>\n",
       "      <td>2.0</td>\n",
       "      <td>1.0</td>\n",
       "      <td>0.0</td>\n",
       "      <td>1.0</td>\n",
       "      <td>75</td>\n",
       "      <td>3</td>\n",
       "      <td>16</td>\n",
       "      <td>0.42</td>\n",
       "      <td>93.0</td>\n",
       "      <td>10.0</td>\n",
       "      <td>9.0</td>\n",
       "      <td>10.0</td>\n",
       "      <td>9.0</td>\n",
       "      <td>10.0</td>\n",
       "      <td>9.0</td>\n",
       "      <td>9</td>\n",
       "      <td>360</td>\n",
       "    </tr>\n",
       "    <tr>\n",
       "      <th>326</th>\n",
       "      <td>Central</td>\n",
       "      <td>51.453223</td>\n",
       "      <td>-2.593276</td>\n",
       "      <td>Apartment</td>\n",
       "      <td>Entire home/apt</td>\n",
       "      <td>2.0</td>\n",
       "      <td>1.0</td>\n",
       "      <td>0.0</td>\n",
       "      <td>1.0</td>\n",
       "      <td>62</td>\n",
       "      <td>2</td>\n",
       "      <td>162</td>\n",
       "      <td>4.73</td>\n",
       "      <td>97.0</td>\n",
       "      <td>10.0</td>\n",
       "      <td>10.0</td>\n",
       "      <td>10.0</td>\n",
       "      <td>10.0</td>\n",
       "      <td>10.0</td>\n",
       "      <td>10.0</td>\n",
       "      <td>2</td>\n",
       "      <td>349</td>\n",
       "    </tr>\n",
       "  </tbody>\n",
       "</table>\n",
       "</div>"
      ],
      "text/plain": [
       "        neighbourhood   latitude  longitude property_type        room_type  \\\n",
       "98         Frome Vale  51.483552  -2.526815     Townhouse     Private room   \n",
       "130  Brislington East  51.451656  -2.545024     Apartment  Entire home/apt   \n",
       "243           Clifton  51.457606  -2.618214          Loft  Entire home/apt   \n",
       "257            Ashley  51.459291  -2.585784     Apartment  Entire home/apt   \n",
       "326           Central  51.453223  -2.593276     Apartment  Entire home/apt   \n",
       "\n",
       "     accommodates  bathrooms  bedrooms  beds  price  minimum_nights  \\\n",
       "98            1.0        1.0       0.0   1.0     30               1   \n",
       "130           2.0        1.0       0.0   1.0     65               2   \n",
       "243           2.0        1.0       0.0   1.0     70               2   \n",
       "257           2.0        1.0       0.0   1.0     75               3   \n",
       "326           2.0        1.0       0.0   1.0     62               2   \n",
       "\n",
       "     number_of_reviews  reviews_per_month  review_scores_rating  \\\n",
       "98                   9               0.17                  95.0   \n",
       "130                 90               1.93                  91.0   \n",
       "243                 67               1.70                  98.0   \n",
       "257                 16               0.42                  93.0   \n",
       "326                162               4.73                  97.0   \n",
       "\n",
       "     review_scores_accuracy  review_scores_cleanliness  review_scores_checkin  \\\n",
       "98                     10.0                       10.0                   10.0   \n",
       "130                    10.0                        9.0                   10.0   \n",
       "243                    10.0                       10.0                   10.0   \n",
       "257                    10.0                        9.0                   10.0   \n",
       "326                    10.0                       10.0                   10.0   \n",
       "\n",
       "     review_scores_communication  review_scores_location  review_scores_value  \\\n",
       "98                          10.0                    10.0                  9.0   \n",
       "130                         10.0                     9.0                  9.0   \n",
       "243                         10.0                    10.0                  9.0   \n",
       "257                          9.0                    10.0                  9.0   \n",
       "326                         10.0                    10.0                 10.0   \n",
       "\n",
       "     calculated_host_listings_count  availability_365  \n",
       "98                                1                88  \n",
       "130                               1               289  \n",
       "243                               1               272  \n",
       "257                               9               360  \n",
       "326                               2               349  "
      ]
     },
     "execution_count": 26,
     "metadata": {},
     "output_type": "execute_result"
    }
   ],
   "source": [
    "bed_0 = airbnb[airbnb[\"bedrooms\"] == 0]\n",
    "bed_0.head(5)"
   ]
  },
  {
   "cell_type": "markdown",
   "metadata": {},
   "source": [
    "I will check the property type and, based on this and the number of accommodates, I am going to define some rules arbitrarily to assign a number of rooms to each row."
   ]
  },
  {
   "cell_type": "code",
   "execution_count": 27,
   "metadata": {
    "collapsed": false
   },
   "outputs": [
    {
     "data": {
      "text/plain": [
       "{'Apartment': 51,\n",
       " 'Condominium': 1,\n",
       " 'Guest suite': 4,\n",
       " 'House': 7,\n",
       " 'Hut': 1,\n",
       " 'Loft': 2,\n",
       " 'Serviced apartment': 26,\n",
       " 'Townhouse': 2,\n",
       " 'Yurt': 1}"
      ]
     },
     "execution_count": 27,
     "metadata": {},
     "output_type": "execute_result"
    }
   ],
   "source": [
    "unique, counts = np.unique(bed_0[\"property_type\"], return_counts=True)\n",
    "dict(zip(unique, counts))"
   ]
  },
  {
   "cell_type": "code",
   "execution_count": 28,
   "metadata": {
    "collapsed": false
   },
   "outputs": [
    {
     "data": {
      "text/plain": [
       "{1.0: 6, 2.0: 73, 3.0: 1, 4.0: 8, 6.0: 4, 7.0: 2, 8.0: 1}"
      ]
     },
     "execution_count": 28,
     "metadata": {},
     "output_type": "execute_result"
    }
   ],
   "source": [
    "unique, counts = np.unique(bed_0[\"accommodates\"], return_counts=True)\n",
    "dict(zip(unique, counts))"
   ]
  },
  {
   "cell_type": "markdown",
   "metadata": {},
   "source": [
    "Checking the property types and the number of accommodates, I decided to set the following rules:\n",
    "1.  Each room can accommodate two people. So, a property for two guests will have 1 room, a property for three people will have 2 rooms and so on.\n",
    "2. There are some types of properties that are only composed of a big room. Those are \"Hut\", \"Loft\" and \"Yurt\".\n",
    "3. I am supposing that the type of property \"guest suite\" is just composed by 1 bedroom. "
   ]
  },
  {
   "cell_type": "code",
   "execution_count": 29,
   "metadata": {
    "collapsed": true
   },
   "outputs": [],
   "source": [
    "rule_1 = (airbnb['accommodates'] == 1) & (airbnb['property_type'] != \"Loft\") & (airbnb['property_type'] != \"Yurt\") & (airbnb['property_type'] != \"Hut\") & (airbnb['property_type'] != \"Guest suite\")\n",
    "airbnb.loc[rule_1, 'bedrooms'] = 1\n",
    "rule_2 = (airbnb['accommodates'] == 2) & (airbnb['property_type'] != \"Loft\") & (airbnb['property_type'] != \"Yurt\") & (airbnb['property_type'] != \"Hut\") & (airbnb['property_type'] != \"Guest suite\")\n",
    "airbnb.loc[rule_2, 'bedrooms'] = 1\n",
    "rule_3 = (airbnb['accommodates'] == 3) & (airbnb['property_type'] != \"Loft\") & (airbnb['property_type'] != \"Yurt\") & (airbnb['property_type'] != \"Hut\") & (airbnb['property_type'] != \"Guest suite\")\n",
    "airbnb.loc[rule_3, 'bedrooms'] = 2\n",
    "rule_4 = (airbnb['accommodates'] == 4) & (airbnb['property_type'] != \"Loft\") & (airbnb['property_type'] != \"Yurt\") & (airbnb['property_type'] != \"Hut\") & (airbnb['property_type'] != \"Guest suite\")\n",
    "airbnb.loc[rule_4, 'bedrooms'] = 2\n",
    "rule_5 = (airbnb['accommodates'] == 6) & (airbnb['property_type'] != \"Loft\") & (airbnb['property_type'] != \"Yurt\") & (airbnb['property_type'] != \"Hut\") & (airbnb['property_type'] != \"Guest suite\")\n",
    "airbnb.loc[rule_5, 'bedrooms'] = 3\n",
    "rule_6 = (airbnb['accommodates'] == 7) & (airbnb['property_type'] != \"Loft\") & (airbnb['property_type'] != \"Yurt\") & (airbnb['property_type'] != \"Hut\") & (airbnb['property_type'] != \"Guest suite\")\n",
    "airbnb.loc[rule_6, 'bedrooms'] = 4\n",
    "rule_7 = (airbnb['accommodates'] == 8) & (airbnb['property_type'] != \"Loft\") & (airbnb['property_type'] != \"Yurt\") & (airbnb['property_type'] != \"Hut\") & (airbnb['property_type'] != \"Guest suite\")\n",
    "airbnb.loc[rule_7, 'bedrooms'] = 4\n",
    "rule_8 = (airbnb['property_type'] == \"Guest suite\")\n",
    "airbnb.loc[rule_8, 'bedrooms'] = 1"
   ]
  },
  {
   "cell_type": "code",
   "execution_count": 30,
   "metadata": {
    "collapsed": false
   },
   "outputs": [
    {
     "data": {
      "text/html": [
       "<div>\n",
       "<style>\n",
       "    .dataframe thead tr:only-child th {\n",
       "        text-align: right;\n",
       "    }\n",
       "\n",
       "    .dataframe thead th {\n",
       "        text-align: left;\n",
       "    }\n",
       "\n",
       "    .dataframe tbody tr th {\n",
       "        vertical-align: top;\n",
       "    }\n",
       "</style>\n",
       "<table border=\"1\" class=\"dataframe\">\n",
       "  <thead>\n",
       "    <tr style=\"text-align: right;\">\n",
       "      <th></th>\n",
       "      <th>neighbourhood</th>\n",
       "      <th>latitude</th>\n",
       "      <th>longitude</th>\n",
       "      <th>property_type</th>\n",
       "      <th>room_type</th>\n",
       "      <th>accommodates</th>\n",
       "      <th>bathrooms</th>\n",
       "      <th>bedrooms</th>\n",
       "      <th>beds</th>\n",
       "      <th>price</th>\n",
       "      <th>minimum_nights</th>\n",
       "      <th>number_of_reviews</th>\n",
       "      <th>reviews_per_month</th>\n",
       "      <th>review_scores_rating</th>\n",
       "      <th>review_scores_accuracy</th>\n",
       "      <th>review_scores_cleanliness</th>\n",
       "      <th>review_scores_checkin</th>\n",
       "      <th>review_scores_communication</th>\n",
       "      <th>review_scores_location</th>\n",
       "      <th>review_scores_value</th>\n",
       "      <th>calculated_host_listings_count</th>\n",
       "      <th>availability_365</th>\n",
       "    </tr>\n",
       "  </thead>\n",
       "  <tbody>\n",
       "    <tr>\n",
       "      <th>243</th>\n",
       "      <td>Clifton</td>\n",
       "      <td>51.457606</td>\n",
       "      <td>-2.618214</td>\n",
       "      <td>Loft</td>\n",
       "      <td>Entire home/apt</td>\n",
       "      <td>2.0</td>\n",
       "      <td>1.0</td>\n",
       "      <td>0.0</td>\n",
       "      <td>1.0</td>\n",
       "      <td>70</td>\n",
       "      <td>2</td>\n",
       "      <td>67</td>\n",
       "      <td>1.70</td>\n",
       "      <td>98.0</td>\n",
       "      <td>10.0</td>\n",
       "      <td>10.0</td>\n",
       "      <td>10.0</td>\n",
       "      <td>10.0</td>\n",
       "      <td>10.0</td>\n",
       "      <td>9.0</td>\n",
       "      <td>1</td>\n",
       "      <td>272</td>\n",
       "    </tr>\n",
       "    <tr>\n",
       "      <th>1303</th>\n",
       "      <td>Ashley</td>\n",
       "      <td>51.465348</td>\n",
       "      <td>-2.587885</td>\n",
       "      <td>Hut</td>\n",
       "      <td>Private room</td>\n",
       "      <td>1.0</td>\n",
       "      <td>1.0</td>\n",
       "      <td>0.0</td>\n",
       "      <td>1.0</td>\n",
       "      <td>22</td>\n",
       "      <td>1</td>\n",
       "      <td>90</td>\n",
       "      <td>6.63</td>\n",
       "      <td>95.0</td>\n",
       "      <td>10.0</td>\n",
       "      <td>10.0</td>\n",
       "      <td>9.0</td>\n",
       "      <td>9.0</td>\n",
       "      <td>10.0</td>\n",
       "      <td>10.0</td>\n",
       "      <td>2</td>\n",
       "      <td>227</td>\n",
       "    </tr>\n",
       "    <tr>\n",
       "      <th>1470</th>\n",
       "      <td>Clifton Down</td>\n",
       "      <td>51.460421</td>\n",
       "      <td>-2.613466</td>\n",
       "      <td>Loft</td>\n",
       "      <td>Entire home/apt</td>\n",
       "      <td>4.0</td>\n",
       "      <td>1.0</td>\n",
       "      <td>0.0</td>\n",
       "      <td>2.0</td>\n",
       "      <td>76</td>\n",
       "      <td>2</td>\n",
       "      <td>63</td>\n",
       "      <td>6.34</td>\n",
       "      <td>99.0</td>\n",
       "      <td>10.0</td>\n",
       "      <td>10.0</td>\n",
       "      <td>10.0</td>\n",
       "      <td>10.0</td>\n",
       "      <td>10.0</td>\n",
       "      <td>10.0</td>\n",
       "      <td>1</td>\n",
       "      <td>21</td>\n",
       "    </tr>\n",
       "    <tr>\n",
       "      <th>1821</th>\n",
       "      <td>Ashley</td>\n",
       "      <td>51.474165</td>\n",
       "      <td>-2.576801</td>\n",
       "      <td>Yurt</td>\n",
       "      <td>Entire home/apt</td>\n",
       "      <td>6.0</td>\n",
       "      <td>0.5</td>\n",
       "      <td>0.0</td>\n",
       "      <td>1.0</td>\n",
       "      <td>200</td>\n",
       "      <td>2</td>\n",
       "      <td>9</td>\n",
       "      <td>2.14</td>\n",
       "      <td>91.0</td>\n",
       "      <td>10.0</td>\n",
       "      <td>9.0</td>\n",
       "      <td>10.0</td>\n",
       "      <td>10.0</td>\n",
       "      <td>10.0</td>\n",
       "      <td>10.0</td>\n",
       "      <td>3</td>\n",
       "      <td>112</td>\n",
       "    </tr>\n",
       "  </tbody>\n",
       "</table>\n",
       "</div>"
      ],
      "text/plain": [
       "     neighbourhood   latitude  longitude property_type        room_type  \\\n",
       "243        Clifton  51.457606  -2.618214          Loft  Entire home/apt   \n",
       "1303        Ashley  51.465348  -2.587885           Hut     Private room   \n",
       "1470  Clifton Down  51.460421  -2.613466          Loft  Entire home/apt   \n",
       "1821        Ashley  51.474165  -2.576801          Yurt  Entire home/apt   \n",
       "\n",
       "      accommodates  bathrooms  bedrooms  beds  price  minimum_nights  \\\n",
       "243            2.0        1.0       0.0   1.0     70               2   \n",
       "1303           1.0        1.0       0.0   1.0     22               1   \n",
       "1470           4.0        1.0       0.0   2.0     76               2   \n",
       "1821           6.0        0.5       0.0   1.0    200               2   \n",
       "\n",
       "      number_of_reviews  reviews_per_month  review_scores_rating  \\\n",
       "243                  67               1.70                  98.0   \n",
       "1303                 90               6.63                  95.0   \n",
       "1470                 63               6.34                  99.0   \n",
       "1821                  9               2.14                  91.0   \n",
       "\n",
       "      review_scores_accuracy  review_scores_cleanliness  \\\n",
       "243                     10.0                       10.0   \n",
       "1303                    10.0                       10.0   \n",
       "1470                    10.0                       10.0   \n",
       "1821                    10.0                        9.0   \n",
       "\n",
       "      review_scores_checkin  review_scores_communication  \\\n",
       "243                    10.0                         10.0   \n",
       "1303                    9.0                          9.0   \n",
       "1470                   10.0                         10.0   \n",
       "1821                   10.0                         10.0   \n",
       "\n",
       "      review_scores_location  review_scores_value  \\\n",
       "243                     10.0                  9.0   \n",
       "1303                    10.0                 10.0   \n",
       "1470                    10.0                 10.0   \n",
       "1821                    10.0                 10.0   \n",
       "\n",
       "      calculated_host_listings_count  availability_365  \n",
       "243                                1               272  \n",
       "1303                               2               227  \n",
       "1470                               1                21  \n",
       "1821                               3               112  "
      ]
     },
     "execution_count": 30,
     "metadata": {},
     "output_type": "execute_result"
    }
   ],
   "source": [
    "airbnb[airbnb[\"bedrooms\"] == 0]"
   ]
  },
  {
   "cell_type": "markdown",
   "metadata": {},
   "source": [
    "After applying the rules, now there are only 4 observations with zero rooms in the dataset, but the lack of rooms seems to be justified by the property type. "
   ]
  },
  {
   "cell_type": "code",
   "execution_count": 31,
   "metadata": {
    "collapsed": false
   },
   "outputs": [
    {
     "data": {
      "image/png": "[encoded data removed]",
      "text/plain": [
       "<matplotlib.figure.Figure at 0x1c854190080>"
      ]
     },
     "metadata": {},
     "output_type": "display_data"
    }
   ],
   "source": [
    "airbnb[\"bedrooms\"].value_counts().plot.bar()\n",
    "plt.xlabel(\"number of bedrooms\")\n",
    "plt.ylabel(\"Count\")\n",
    "plt.title(\"Number of Bedrooms\")\n",
    "plt.show()"
   ]
  },
  {
   "cell_type": "markdown",
   "metadata": {},
   "source": [
    "The graph below shows the distribution of the rating. As we seen, all the ratings are located in really high scores. It is probably because clients do not go to properties that receive bad reviews and, therefore, these properties are retired from the market by their owners."
   ]
  },
  {
   "cell_type": "code",
   "execution_count": 32,
   "metadata": {
    "collapsed": false,
    "scrolled": true
   },
   "outputs": [
    {
     "name": "stderr",
     "output_type": "stream",
     "text": [
      "C:\\Users\\Diego\\Anaconda3\\lib\\site-packages\\scipy\\stats\\stats.py:1633: FutureWarning: Using a non-tuple sequence for multidimensional indexing is deprecated; use `arr[tuple(seq)]` instead of `arr[seq]`. In the future this will be interpreted as an array index, `arr[np.array(seq)]`, which will result either in an error or a different result.\n",
      "  return np.add.reduce(sorted[indexer] * weights, axis=axis) / sumval\n"
     ]
    },
    {
     "data": {
      "image/png": "[encoded data removed]",
      "text/plain": [
       "<matplotlib.figure.Figure at 0x1c8541a76a0>"
      ]
     },
     "metadata": {},
     "output_type": "display_data"
    }
   ],
   "source": [
    "sns.distplot(airbnb['review_scores_rating'])\n",
    "plt.title(\"Review Scores Rating density plot\")\n",
    "plt.xlabel(\"Rating\")\n",
    "plt.show()"
   ]
  },
  {
   "cell_type": "markdown",
   "metadata": {},
   "source": [
    "Apart from the number of bedrooms, I do not find other possible problems to tackle. The categories in the firsts plot seem to be fine. Although there are some uncommon categories (in \"property type\" and \"neighbourhood\"), I am going to use this features as independent variables, so I will keep them because the model will not have to predict these categories. \n"
   ]
  },
  {
   "cell_type": "markdown",
   "metadata": {},
   "source": [
    "Now my data is cleaned and ready to performing the analysis. But before starting with them, I will finish the visualization section providing some plots in other variables."
   ]
  },
  {
   "cell_type": "markdown",
   "metadata": {},
   "source": [
    "The next two plots represent the geographical distribution of the properties; on the first one, they are represented by density (the strongest the color the higher the density) and by price. "
   ]
  },
  {
   "cell_type": "code",
   "execution_count": 33,
   "metadata": {
    "collapsed": false
   },
   "outputs": [
    {
     "data": {
      "image/png": "[encoded data removed]",
      "text/plain": [
       "<matplotlib.figure.Figure at 0x1c8541b7390>"
      ]
     },
     "metadata": {},
     "output_type": "display_data"
    }
   ],
   "source": [
    "plt.scatter(x=airbnb['longitude'], y=airbnb['latitude'], alpha=0.1)\n",
    "plt.title(\"Geographical localitation of the properties by density\")\n",
    "plt.show()"
   ]
  },
  {
   "cell_type": "code",
   "execution_count": 34,
   "metadata": {
    "collapsed": false
   },
   "outputs": [
    {
     "data": {
      "image/png": "[encoded data removed]",
      "text/plain": [
       "<matplotlib.figure.Figure at 0x1c853ee7da0>"
      ]
     },
     "metadata": {},
     "output_type": "display_data"
    }
   ],
   "source": [
    "plt.scatter(x=airbnb['longitude'], y=airbnb['latitude'], c=airbnb['price'])\n",
    "plt.gray()\n",
    "plt.title(\"Geographical localitation of the properties by price\")\n",
    "plt.show()\n"
   ]
  },
  {
   "cell_type": "markdown",
   "metadata": {},
   "source": [
    "As we can see, there is a clear concentration of properties in same area of the city, but the most expensives ones seems to be out of that area."
   ]
  },
  {
   "cell_type": "markdown",
   "metadata": {},
   "source": [
    "Below there are three correlation matrices that show the correlation between the variables of the dataset. It is split into three matrices for the sake of simplicity."
   ]
  },
  {
   "cell_type": "code",
   "execution_count": 35,
   "metadata": {
    "collapsed": false
   },
   "outputs": [
    {
     "data": {
      "image/png": "[encoded data removed]",
      "text/plain": [
       "<matplotlib.figure.Figure at 0x1c853f39320>"
      ]
     },
     "metadata": {},
     "output_type": "display_data"
    }
   ],
   "source": [
    "correlationdata1 = airbnb[[\"bathrooms\", \"bedrooms\", \"beds\",\"price\", \"review_scores_rating\", \"latitude\", \"longitude\"]]\n",
    "correlation = correlationdata1.corr()\n",
    "sns.heatmap(correlation)\n",
    "plt.title(\"Correlation matrix 1\")\n",
    "plt.show()"
   ]
  },
  {
   "cell_type": "markdown",
   "metadata": {},
   "source": [
    "From this first correlation matrix, we can spot significant correlations between bathrooms, bedrooms, beds, and price, something that will be relevant for the first analysis. Surprisingly, the review rate is not correlated with those variables. We will see in one of the analyses which variables explain the review scores that the guests provide. "
   ]
  },
  {
   "cell_type": "code",
   "execution_count": 36,
   "metadata": {
    "collapsed": true
   },
   "outputs": [],
   "source": [
    "airbnb_copy = airbnb.copy()"
   ]
  },
  {
   "cell_type": "code",
   "execution_count": 37,
   "metadata": {
    "collapsed": false
   },
   "outputs": [],
   "source": [
    "#Getting dummies of room types \n",
    "airbnb_RT = pd.get_dummies(airbnb[\"room_type\"])\n",
    "airbnb_copy = pd.concat([airbnb_copy, airbnb_RT], axis=1)\n"
   ]
  },
  {
   "cell_type": "code",
   "execution_count": 38,
   "metadata": {
    "collapsed": false
   },
   "outputs": [
    {
     "data": {
      "image/png": "[encoded data removed]",
      "text/plain": [
       "<matplotlib.figure.Figure at 0x1c853f0c080>"
      ]
     },
     "metadata": {},
     "output_type": "display_data"
    }
   ],
   "source": [
    "correlationdata2 = airbnb_copy[[\"price\", \"review_scores_rating\",\"Entire home/apt\", \"Private room\"]]\n",
    "correlation2 = correlationdata2.corr()\n",
    "sns.heatmap(correlation2)\n",
    "plt.title(\"Correlation matrix 2\")\n",
    "plt.show()"
   ]
  },
  {
   "cell_type": "markdown",
   "metadata": {},
   "source": [
    "On this second matrix we see a positive correlation between the price and renting the whole flat. We see again that the review score is not highly correlated with any of the variables."
   ]
  },
  {
   "cell_type": "markdown",
   "metadata": {},
   "source": [
    "As there is no correlation between the ratings and the price, I will weight the rating using the number of reviews per month and check if this variable is correlated with the price."
   ]
  },
  {
   "cell_type": "code",
   "execution_count": 39,
   "metadata": {
    "collapsed": false
   },
   "outputs": [
    {
     "data": {
      "text/plain": [
       "-0.07681085085614084"
      ]
     },
     "execution_count": 39,
     "metadata": {},
     "output_type": "execute_result"
    }
   ],
   "source": [
    "airbnb['Weighted Review'] = (airbnb['reviews_per_month']*airbnb['review_scores_rating'])/100\n",
    "airbnb['Weighted Review'].corr(airbnb['price'])"
   ]
  },
  {
   "cell_type": "markdown",
   "metadata": {},
   "source": [
    "As it is not correlated, I will delete it."
   ]
  },
  {
   "cell_type": "code",
   "execution_count": 40,
   "metadata": {
    "collapsed": true
   },
   "outputs": [],
   "source": [
    "del airbnb['Weighted Review']"
   ]
  },
  {
   "cell_type": "markdown",
   "metadata": {},
   "source": [
    "<font size=\"6\">First Analysis: Predictive model for the price</font>"
   ]
  },
  {
   "cell_type": "markdown",
   "metadata": {},
   "source": [
    "<font size=\"4\">Feature selection and data preparation</font>\n",
    "\n",
    "As I explained in the introduction, in the first analysis I will use different regression models with the aim of creating predictive models for the price of the accommodation. The regression techniques that I am going to use are linear regression, ridge regression, support vector (using different algorithms) and random forest regression. These models will be validated using k-folds cross-validation, which will determine if the models are accurate. "
   ]
  },
  {
   "cell_type": "markdown",
   "metadata": {},
   "source": [
    "Before performing the regressions, I will prepare the data. This will include taking dummies for the type of room and property. "
   ]
  },
  {
   "cell_type": "code",
   "execution_count": 41,
   "metadata": {
    "collapsed": false,
    "scrolled": true
   },
   "outputs": [],
   "source": [
    "airbnb_3 = airbnb.copy()"
   ]
  },
  {
   "cell_type": "markdown",
   "metadata": {},
   "source": [
    "Now I am going to scale the data. The variables of the model are in a range of different magnitudes, something that affects negatively some types of machine learning models. For avoiding this problem, the data will be standardized, each feature will have a mean of zero and a standard deviation of one.\n",
    "\n",
    "But prior to doing so, I will take dummies of the room and property type. These variables will be either a 1 or a 0 for each row, so there is no need in scaling them.\n",
    "\n",
    "I will also delete the variables that I am not going to use in my model."
   ]
  },
  {
   "cell_type": "code",
   "execution_count": 42,
   "metadata": {
    "collapsed": false
   },
   "outputs": [],
   "source": [
    "room_t = pd.get_dummies(airbnb_3[\"room_type\"])\n",
    "property_t = pd.get_dummies(airbnb_3[\"property_type\"])"
   ]
  },
  {
   "cell_type": "code",
   "execution_count": 43,
   "metadata": {
    "collapsed": false
   },
   "outputs": [],
   "source": [
    "del airbnb_3[\"neighbourhood\"], airbnb_3[\"latitude\"], airbnb_3[\"longitude\"], airbnb_3[\"property_type\"], airbnb_3[\"room_type\"]"
   ]
  },
  {
   "cell_type": "code",
   "execution_count": 44,
   "metadata": {
    "collapsed": false
   },
   "outputs": [],
   "source": [
    "from sklearn.preprocessing import StandardScaler\n",
    "ss = StandardScaler()\n",
    "num_attribs = list(airbnb_3)\n",
    "airbnb_3[num_attribs] = ss.fit_transform(airbnb_3[num_attribs])"
   ]
  },
  {
   "cell_type": "code",
   "execution_count": 45,
   "metadata": {
    "collapsed": true
   },
   "outputs": [],
   "source": [
    "airbnb_3_lin = pd.concat([airbnb_3, room_t, property_t], axis=1)"
   ]
  },
  {
   "cell_type": "markdown",
   "metadata": {},
   "source": [
    "Now I will do the feature selection. I want to use all the possible independent variables. But using all the variables that I have in the dataset may cause problems. Some models suffer from multicollinearity, a problem that arises when the dependent variables of the model are correlated between them. Knowing this, I will only use a variable regarding the reviews (the general score) and the review score for the location because I want to use variable regarding the location of the property. I will also drop one of the dummies for room type because \"entire home/apt\" and \"private room\" are almost perfectly negatively correlated.  "
   ]
  },
  {
   "cell_type": "code",
   "execution_count": 46,
   "metadata": {
    "collapsed": false
   },
   "outputs": [],
   "source": [
    "dependent = airbnb_3_lin[\"price\"]"
   ]
  },
  {
   "cell_type": "code",
   "execution_count": 47,
   "metadata": {
    "collapsed": false
   },
   "outputs": [],
   "source": [
    "del airbnb_3_lin[\"t\"], airbnb_3_lin[\"f\"], airbnb_3_lin[\"price\"], airbnb_3_lin[\"Private room\"], airbnb_3_lin[\"review_scores_accuracy\"], airbnb_3_lin[\"review_scores_cleanliness\"], airbnb_3_lin[\"review_scores_checkin\"], airbnb_3_lin[\"review_scores_communication\"], airbnb_3_lin[\"review_scores_value\"]"
   ]
  },
  {
   "cell_type": "markdown",
   "metadata": {},
   "source": [
    "The next step is splitting the data into training and test. The model will learn from the training set, and the test data will be used for making a prediction based on the model."
   ]
  },
  {
   "cell_type": "code",
   "execution_count": 48,
   "metadata": {
    "collapsed": false
   },
   "outputs": [],
   "source": [
    "from sklearn import model_selection\n",
    "X_train, X_test, Y_train, Y_test = sklearn.model_selection.train_test_split(airbnb_3_lin, dependent, test_size=0.3)"
   ]
  },
  {
   "cell_type": "markdown",
   "metadata": {},
   "source": [
    "<font size=\"4\">Fitting the models</font>"
   ]
  },
  {
   "cell_type": "markdown",
   "metadata": {},
   "source": [
    "Below we have the linear regression model and its scoring. The chosen measure for scoring is the negative mean squared error, which means that the higher the score (the closer to zero), the better. \n",
    "This score will be obtained multiple times using k-folds cross-validation. This is a resampling procedure that creates k splits of data. Therefore, we will have k pairs of training and testing data. The model will be fitted for each pair, and the performance will be tested with the training data. This will give k different scores.\n",
    "\n",
    "I am going to use this procedure for each of the models used in this section, and at the end, I will use it to compare the performance of those models."
   ]
  },
  {
   "cell_type": "code",
   "execution_count": 49,
   "metadata": {
    "collapsed": false
   },
   "outputs": [
    {
     "data": {
      "text/plain": [
       "LinearRegression(copy_X=True, fit_intercept=True, n_jobs=1, normalize=False)"
      ]
     },
     "execution_count": 49,
     "metadata": {},
     "output_type": "execute_result"
    }
   ],
   "source": [
    "from sklearn.linear_model import LinearRegression\n",
    "lin_reg = LinearRegression()\n",
    "lin_reg.fit(X_train, Y_train)"
   ]
  },
  {
   "cell_type": "code",
   "execution_count": 50,
   "metadata": {
    "collapsed": false
   },
   "outputs": [],
   "source": [
    "cv_scores_linear = cross_val_score(lin_reg, X_train, Y_train, cv=5, scoring='neg_mean_squared_error')"
   ]
  },
  {
   "cell_type": "markdown",
   "metadata": {},
   "source": [
    "Now I will fit a Ridge Regression. It is a regularized version of the linear regression. It introduces a regularization term that forces the algorithm to keep the model weights as small as possible. "
   ]
  },
  {
   "cell_type": "code",
   "execution_count": 51,
   "metadata": {
    "collapsed": false
   },
   "outputs": [],
   "source": [
    "from sklearn.linear_model import Ridge\n",
    "ridge = Ridge(alpha=0.01, normalize=True)\n",
    "ridge.fit(X_train, Y_train)\n",
    "cv_scores_rid = cross_val_score(ridge, X_train, Y_train, cv=5, scoring='neg_mean_squared_error')"
   ]
  },
  {
   "cell_type": "markdown",
   "metadata": {},
   "source": [
    "The next model to test is the support vector machine regression. This model can be used for classification and regression. In classification, the model tries to find the largest decision boundary between classes of data, although it may allow some violations of the margin. On the other side, in regression tasks, the model will fit as many instances as possible inside the decision boundary. \n",
    "\n",
    "This model supports different kernels to fit the model. I am going to use the linear, polynomial and the Gaussian Radial Basis kernel, which is used to deal with non-linear data. "
   ]
  },
  {
   "cell_type": "code",
   "execution_count": 52,
   "metadata": {
    "collapsed": false
   },
   "outputs": [
    {
     "data": {
      "text/plain": [
       "SVR(C=1.0, cache_size=200, coef0=0.0, degree=3, epsilon=0.1, gamma='auto',\n",
       "  kernel='linear', max_iter=-1, shrinking=True, tol=0.001, verbose=False)"
      ]
     },
     "execution_count": 52,
     "metadata": {},
     "output_type": "execute_result"
    }
   ],
   "source": [
    "from sklearn.svm import SVR\n",
    "#Linear\n",
    "svr_reg =SVR(kernel=\"linear\")\n",
    "svr_reg.fit(X_train,Y_train)"
   ]
  },
  {
   "cell_type": "code",
   "execution_count": 53,
   "metadata": {
    "collapsed": false
   },
   "outputs": [],
   "source": [
    "cv_scores_svr = cross_val_score(svr_reg, X_train, Y_train, cv=5, scoring = 'neg_mean_squared_error')"
   ]
  },
  {
   "cell_type": "code",
   "execution_count": 54,
   "metadata": {
    "collapsed": false
   },
   "outputs": [],
   "source": [
    "#Polynomial Function\n",
    "svr_reg =SVR(kernel=\"poly\")\n",
    "svr_reg.fit(X_train,Y_train)\n",
    "prediction = svr_reg.predict(X_test)"
   ]
  },
  {
   "cell_type": "code",
   "execution_count": 55,
   "metadata": {
    "collapsed": false
   },
   "outputs": [],
   "source": [
    "cv_scores_svr_poly = cross_val_score(svr_reg, X_train, Y_train, cv=5, scoring='neg_mean_squared_error')"
   ]
  },
  {
   "cell_type": "code",
   "execution_count": 56,
   "metadata": {
    "collapsed": false
   },
   "outputs": [],
   "source": [
    "#Radial Basis Function\n",
    "svr_reg =SVR(kernel=\"rbf\")\n",
    "svr_reg.fit(X_train,Y_train)\n",
    "prediction = svr_reg.predict(X_test)\n",
    "cv_scores_svr_rbf = cross_val_score(svr_reg, X_train, Y_train, cv=5, scoring='neg_mean_squared_error')"
   ]
  },
  {
   "cell_type": "markdown",
   "metadata": {},
   "source": [
    "The last model that I will use is Random Forest. It is an ensemble of Decision Trees that, instead of splitting the data using the best possible feature, it choose the best feature within a subset of features."
   ]
  },
  {
   "cell_type": "code",
   "execution_count": 57,
   "metadata": {
    "collapsed": false
   },
   "outputs": [
    {
     "name": "stderr",
     "output_type": "stream",
     "text": [
      "C:\\Users\\Diego\\Anaconda3\\lib\\site-packages\\sklearn\\ensemble\\weight_boosting.py:29: DeprecationWarning: numpy.core.umath_tests is an internal NumPy module and should not be imported. It will be removed in a future NumPy release.\n",
      "  from numpy.core.umath_tests import inner1d\n"
     ]
    }
   ],
   "source": [
    "#Random Forest Regression\n",
    "from sklearn.ensemble import RandomForestRegressor\n",
    "rf_reg = RandomForestRegressor()\n",
    "rf_reg.fit(X_train, Y_train)\n",
    "prediction = rf_reg.predict(X_test)"
   ]
  },
  {
   "cell_type": "code",
   "execution_count": 58,
   "metadata": {
    "collapsed": false
   },
   "outputs": [],
   "source": [
    "cv_scores_rf = cross_val_score(rf_reg, X_train, Y_train, cv=5, scoring='neg_mean_squared_error')"
   ]
  },
  {
   "cell_type": "markdown",
   "metadata": {},
   "source": [
    "<font size=\"4\">Results</font>\n"
   ]
  },
  {
   "cell_type": "code",
   "execution_count": 59,
   "metadata": {
    "collapsed": false,
    "scrolled": true
   },
   "outputs": [
    {
     "data": {
      "image/png": "[encoded data removed]",
      "text/plain": [
       "<matplotlib.figure.Figure at 0x1c8576e5e80>"
      ]
     },
     "metadata": {},
     "output_type": "display_data"
    }
   ],
   "source": [
    "results = cv_scores_linear.mean(), cv_scores_rid.mean(), cv_scores_svr.mean(), cv_scores_svr_poly.mean(),cv_scores_svr_rbf.mean(),cv_scores_rf.mean()\n",
    "objects = ('Linear', 'Ridge', 'SVR Linear', 'SVR Poly', 'SVR Radial', 'Random Forest')\n",
    "y_pos = np.arange(len(objects))\n",
    "plt.bar(y_pos, results, align='center', alpha=0.5)\n",
    "plt.xticks(y_pos, objects)\n",
    "plt.ylabel('Error')\n",
    "plt.title('Average negative mean squared error')\n",
    "plt.show()"
   ]
  },
  {
   "cell_type": "markdown",
   "metadata": {},
   "source": [
    "Above we have the plot with the average of the negative mean squared errors obtained used cross-validation for each model. Given that the data is always randomly splitted, the results may vary each time that the code is run. \n",
    "From the graph, I can spot that the support vector machine is clearly underperforming compared to the rest of the models.\n",
    "\n",
    "The other models performance is quite similar, but SVR with the Gaussian Radial Basis function performs slightly better.\n",
    "Below I am computing the r-squared for this model and the Random Forest. As we see the SVR gets a score of around 63%, which is not really accurate. \n",
    "\n",
    "\n"
   ]
  },
  {
   "cell_type": "code",
   "execution_count": 60,
   "metadata": {
    "collapsed": false,
    "scrolled": true
   },
   "outputs": [
    {
     "name": "stdout",
     "output_type": "stream",
     "text": [
      "0.6556054489881376\n",
      "0.6005362071202929\n"
     ]
    }
   ],
   "source": [
    "cv_rbf_r2 = cross_val_score(svr_reg, X_train, Y_train, cv=5, scoring='r2')\n",
    "print(cv_rbf_r2.mean())\n",
    "cv_rf_r2 = cross_val_score(rf_reg, X_train, Y_train, cv=5, scoring='r2')\n",
    "print(cv_rf_r2.mean())"
   ]
  },
  {
   "cell_type": "markdown",
   "metadata": {},
   "source": [
    "<font size=\"4\">Conclusion for the first analysis</font>\n",
    "\n",
    "Concluding this section, I tried to find the best possible predictive model for the price, with the aim of providing it as a pricing tool for the hosts. I used a wide range of models and the maximum number of features that I considered positive for my objective. But the results were not positive. The best performing model only explains 63% of the changes in the price. Therefore, I need an explanation on why the performance is low.\n",
    "\n",
    "I consider that the model selection is appropriate, I used three main models with some deviations, but they are quite different among them. The size of the datasets it also seems to be appropriate. When we have different models with very similar results, it means that the amount of data is enough.\n",
    "Therefore, I consider that the models could be improved using variables not contained in the dataset. For example, we do not know some features of the accommodations, like if it is new or old, the decoration, if it could be considered as \"luxury\" or any other feature that the clients may consider when staying at an Airbnb property. "
   ]
  },
  {
   "cell_type": "markdown",
   "metadata": {},
   "source": [
    "<font size=\"5\">Second Analysis: Explaining the review score</font>"
   ]
  },
  {
   "cell_type": "markdown",
   "metadata": {},
   "source": [
    "<font size=\"4\">Introduction and feature selection</font>\n",
    "\n",
    "\n",
    "On this second analysis, I will use regression models for predicting the general review score using only the review scores that the clients gave for other aspects of their experience in the property. We have 6 subscores (I will use 5, because one of them is the review of the location, something that the hosts cannot change), and my approach will be trying to find the most important feature for the clients. The possible application of the findings of this analysis is getting an insight on what the hosts should improve for gaining better ratings.\n",
    "\n",
    "Performing linear, ridge and support vector machine (linear kernel) regressions, I will get a coefficient for each feature. This coefficient will express the change of the rating when a feature changes. For example, suppose that the coefficient for the subscore \"value\" is 2.5. When \"value\" increases by 1%, the general rating will be increased by 2.5%. So, if the coefficient is high, the feature will have a great impact on the variable. As a consequence, I can conclude that the features with a higher coefficient are more important for clients.\n",
    "I will also use a Random Forest regression but, instead of coefficients, it will provide a relative feature importance.\n",
    "\n",
    "I have chosen to use only this subscores because, with the exception of the location, the hosts can improve in those important aspects to the client and, therefore, getting a better general review and more revenue.\n"
   ]
  },
  {
   "cell_type": "markdown",
   "metadata": {},
   "source": [
    "The first step is to prepare the data. For doing it, I choose the variables and then I split the data into testing an training. In this case, the size of the testing data will be only 10%, because I want accurate coefficients, something that I can improve using more training data.\n",
    "In this case, I am not scaling the data, because all the features are already on the same scale."
   ]
  },
  {
   "cell_type": "code",
   "execution_count": 61,
   "metadata": {
    "collapsed": true
   },
   "outputs": [],
   "source": [
    "review = airbnb.copy()\n",
    "rating = airbnb[\"review_scores_rating\"]\n",
    "review = review.drop([\"neighbourhood\", \"latitude\", \"longitude\", \"property_type\", \"room_type\", \"accommodates\", \"bathrooms\", \"bedrooms\", \"beds\", \"price\", \"minimum_nights\", \"number_of_reviews\", \"reviews_per_month\", \"calculated_host_listings_count\", \"availability_365\", \"review_scores_rating\", \"review_scores_location\"], axis = 1)"
   ]
  },
  {
   "cell_type": "code",
   "execution_count": 62,
   "metadata": {
    "collapsed": false
   },
   "outputs": [],
   "source": [
    "from sklearn import model_selection\n",
    "X_train, X_test, Y_train, Y_test = sklearn.model_selection.train_test_split(review, rating, test_size=0.1)"
   ]
  },
  {
   "cell_type": "markdown",
   "metadata": {},
   "source": [
    "<font size=\"4\">Modelling and results</font>\n",
    "\n",
    "Now I will apply the chosen models, and, below them, there will be a table with the coefficients sorted from higher to lower. I am also using k-folds cross-validation for evaluating the models at the end. "
   ]
  },
  {
   "cell_type": "code",
   "execution_count": 63,
   "metadata": {
    "collapsed": false
   },
   "outputs": [
    {
     "name": "stdout",
     "output_type": "stream",
     "text": [
      "intercept -2.6499077081273725\n"
     ]
    },
    {
     "data": {
      "text/html": [
       "<div>\n",
       "<style>\n",
       "    .dataframe thead tr:only-child th {\n",
       "        text-align: right;\n",
       "    }\n",
       "\n",
       "    .dataframe thead th {\n",
       "        text-align: left;\n",
       "    }\n",
       "\n",
       "    .dataframe tbody tr th {\n",
       "        vertical-align: top;\n",
       "    }\n",
       "</style>\n",
       "<table border=\"1\" class=\"dataframe\">\n",
       "  <thead>\n",
       "    <tr style=\"text-align: right;\">\n",
       "      <th></th>\n",
       "      <th>Coefficient</th>\n",
       "    </tr>\n",
       "  </thead>\n",
       "  <tbody>\n",
       "    <tr>\n",
       "      <th>review_scores_accuracy</th>\n",
       "      <td>3.614005</td>\n",
       "    </tr>\n",
       "    <tr>\n",
       "      <th>review_scores_value</th>\n",
       "      <td>2.274737</td>\n",
       "    </tr>\n",
       "    <tr>\n",
       "      <th>review_scores_cleanliness</th>\n",
       "      <td>2.021190</td>\n",
       "    </tr>\n",
       "    <tr>\n",
       "      <th>review_scores_communication</th>\n",
       "      <td>1.542726</td>\n",
       "    </tr>\n",
       "    <tr>\n",
       "      <th>review_scores_checkin</th>\n",
       "      <td>0.632464</td>\n",
       "    </tr>\n",
       "  </tbody>\n",
       "</table>\n",
       "</div>"
      ],
      "text/plain": [
       "                             Coefficient\n",
       "review_scores_accuracy          3.614005\n",
       "review_scores_value             2.274737\n",
       "review_scores_cleanliness       2.021190\n",
       "review_scores_communication     1.542726\n",
       "review_scores_checkin           0.632464"
      ]
     },
     "execution_count": 63,
     "metadata": {},
     "output_type": "execute_result"
    }
   ],
   "source": [
    "lin_reg = LinearRegression()\n",
    "lin_reg.fit(X_train, Y_train)\n",
    "print (\"intercept\", lin_reg.intercept_)\n",
    "d = {'Coefficient': lin_reg.coef_}\n",
    "coef = pd.DataFrame(d, index = list(review))\n",
    "coef = coef.sort_values([\"Coefficient\"], ascending = False)\n",
    "coef"
   ]
  },
  {
   "cell_type": "code",
   "execution_count": 64,
   "metadata": {
    "collapsed": false
   },
   "outputs": [],
   "source": [
    "cv_scores_linear_rev = cross_val_score(lin_reg, X_train, Y_train, cv=5, scoring = \"r2\")"
   ]
  },
  {
   "cell_type": "code",
   "execution_count": 65,
   "metadata": {
    "collapsed": false
   },
   "outputs": [],
   "source": [
    "#Ridge Regression\n",
    "ridge = Ridge(alpha=0.01, normalize=True)\n",
    "ridge.fit(X_train, Y_train)\n",
    "cv_rid = cross_val_score(ridge, X_train, Y_train, cv=5, scoring = \"r2\")"
   ]
  },
  {
   "cell_type": "code",
   "execution_count": 66,
   "metadata": {
    "collapsed": false,
    "scrolled": true
   },
   "outputs": [
    {
     "name": "stdout",
     "output_type": "stream",
     "text": [
      "intercept -2.6499077081273725\n"
     ]
    },
    {
     "data": {
      "text/html": [
       "<div>\n",
       "<style>\n",
       "    .dataframe thead tr:only-child th {\n",
       "        text-align: right;\n",
       "    }\n",
       "\n",
       "    .dataframe thead th {\n",
       "        text-align: left;\n",
       "    }\n",
       "\n",
       "    .dataframe tbody tr th {\n",
       "        vertical-align: top;\n",
       "    }\n",
       "</style>\n",
       "<table border=\"1\" class=\"dataframe\">\n",
       "  <thead>\n",
       "    <tr style=\"text-align: right;\">\n",
       "      <th></th>\n",
       "      <th>Coefficient</th>\n",
       "    </tr>\n",
       "  </thead>\n",
       "  <tbody>\n",
       "    <tr>\n",
       "      <th>review_scores_accuracy</th>\n",
       "      <td>3.578818</td>\n",
       "    </tr>\n",
       "    <tr>\n",
       "      <th>review_scores_value</th>\n",
       "      <td>2.268604</td>\n",
       "    </tr>\n",
       "    <tr>\n",
       "      <th>review_scores_cleanliness</th>\n",
       "      <td>2.013422</td>\n",
       "    </tr>\n",
       "    <tr>\n",
       "      <th>review_scores_communication</th>\n",
       "      <td>1.545018</td>\n",
       "    </tr>\n",
       "    <tr>\n",
       "      <th>review_scores_checkin</th>\n",
       "      <td>0.652396</td>\n",
       "    </tr>\n",
       "  </tbody>\n",
       "</table>\n",
       "</div>"
      ],
      "text/plain": [
       "                             Coefficient\n",
       "review_scores_accuracy          3.578818\n",
       "review_scores_value             2.268604\n",
       "review_scores_cleanliness       2.013422\n",
       "review_scores_communication     1.545018\n",
       "review_scores_checkin           0.652396"
      ]
     },
     "execution_count": 66,
     "metadata": {},
     "output_type": "execute_result"
    }
   ],
   "source": [
    "print (\"intercept\", lin_reg.intercept_)\n",
    "dd = {'Coefficient': ridge.coef_}\n",
    "coef_rig = pd.DataFrame(dd, index = list(review))\n",
    "coef_rig = coef_rig.sort_values([\"Coefficient\"], ascending = False)\n",
    "coef_rig"
   ]
  },
  {
   "cell_type": "code",
   "execution_count": 67,
   "metadata": {
    "collapsed": false
   },
   "outputs": [],
   "source": [
    "#SVM\n",
    "#Linear\n",
    "svr_reg =SVR(kernel=\"linear\")\n",
    "svr_reg.fit(X_train,Y_train)\n",
    "cv_svr= cross_val_score(svr_reg, X_train, Y_train, cv=5, scoring = \"r2\")"
   ]
  },
  {
   "cell_type": "code",
   "execution_count": 68,
   "metadata": {
    "collapsed": false,
    "scrolled": false
   },
   "outputs": [
    {
     "name": "stdout",
     "output_type": "stream",
     "text": [
      "[[3.00005217 2.80062871 0.19933484 1.60016956 2.79997382]]\n",
      "['review_scores_accuracy', 'review_scores_cleanliness', 'review_scores_checkin', 'review_scores_communication', 'review_scores_value']\n"
     ]
    }
   ],
   "source": [
    "print(svr_reg.coef_)\n",
    "print(list(review))"
   ]
  },
  {
   "cell_type": "code",
   "execution_count": 69,
   "metadata": {
    "collapsed": false
   },
   "outputs": [
    {
     "data": {
      "image/png": "[encoded data removed]",
      "text/plain": [
       "<matplotlib.figure.Figure at 0x1c85774f518>"
      ]
     },
     "metadata": {},
     "output_type": "display_data"
    }
   ],
   "source": [
    "#Random Forest\n",
    "rf_reg.fit(X_train, Y_train)\n",
    "cv_rf= cross_val_score(rf_reg, X_train, Y_train, cv=5, scoring = \"r2\")\n",
    "\n",
    "features = list(review)\n",
    "importances = rf_reg.feature_importances_\n",
    "indices = np.argsort(importances)\n",
    "\n",
    "plt.barh(range(len(indices)), importances[indices], align='center')\n",
    "plt.yticks(range(len(indices)), [features[i] for i in indices])\n",
    "plt.title('Feature Importances')\n",
    "plt.xlabel('Relative Importance')\n",
    "plt.show()"
   ]
  },
  {
   "cell_type": "markdown",
   "metadata": {},
   "source": [
    "As we see in the tables above, the two first models have produced the same results. What clients prefer for the accommodation is a good value, followed by the communication with the host and the accuracy of the listing. The Support Vector Machine model produced similar results. On this model the value revie drop to second position in importance, whereas the accuracy is the most important variable. According to this model, cleanliness is also important for clients.\n",
    "Random forest takes as the most important variables the value and the accuracy, the top result of the first two models and the SVM. But the other variables get a low importance, specially the communication with the host, which is well positioned on the other models. \n",
    "\n",
    "Below I have produced a plot with the R-squared score for each model. As we see, they all perform similar, around 0.6. This means that the model explains 60% of the changes in the dependent variable. Therefore, there are other variables not contained in the models that explain 40% of the review rating. "
   ]
  },
  {
   "cell_type": "code",
   "execution_count": 70,
   "metadata": {
    "collapsed": false
   },
   "outputs": [
    {
     "data": {
      "image/png": "[encoded data removed]",
      "text/plain": [
       "<matplotlib.figure.Figure at 0x1c853f0ceb8>"
      ]
     },
     "metadata": {},
     "output_type": "display_data"
    }
   ],
   "source": [
    "results_1 = cv_scores_linear_rev.mean(), cv_rid.mean(), cv_svr.mean(), cv_rf.mean()\n",
    "objects_1 = ('Linear', 'Ridge', 'SVR Linear', 'Random Forest')\n",
    "y_pos_1 = np.arange(len(objects_1))\n",
    "plt.bar(y_pos_1, results_1, align='center', alpha=0.5)\n",
    "plt.xticks(y_pos_1, objects_1)\n",
    "plt.ylabel('Error')\n",
    "plt.title('Average R-squared for each model')\n",
    "plt.show()"
   ]
  },
  {
   "cell_type": "markdown",
   "metadata": {},
   "source": [
    "<font size=\"4\">Conclusion for the second analysis</font>\n",
    "\n",
    "On this section, I used regression models for finding which of the review subscores explain better the final rating that the users provide. For this task I only used 5 variables I the data was not scaled. \n",
    "Although there were some differents on the results, the four models concluded that the most important variables for the guests are the value and the accuracy. As a consequence, a host that is getting bad ratings should focus primarily on offering a lower price (or improving other features if he want to maintain the price) and in providing an accurate listing, in which all the features of the property are clearly explained. \n",
    "\n",
    "As in the previous model, the performance is not high. But in this case, what I was looking for is finding which of these 5 features is more valued by the guests, and I consider that I have met my objective. \n"
   ]
  },
  {
   "cell_type": "code",
   "execution_count": null,
   "metadata": {
    "collapsed": true
   },
   "outputs": [],
   "source": []
  },
  {
   "cell_type": "code",
   "execution_count": null,
   "metadata": {
    "collapsed": true
   },
   "outputs": [],
   "source": []
  }
 ],
 "metadata": {
  "anaconda-cloud": {},
  "kernelspec": {
   "display_name": "Python [conda root]",
   "language": "python",
   "name": "conda-root-py"
  },
  "language_info": {
   "codemirror_mode": {
    "name": "ipython",
    "version": 3
   },
   "file_extension": ".py",
   "mimetype": "text/x-python",
   "name": "python",
   "nbconvert_exporter": "python",
   "pygments_lexer": "ipython3",
   "version": "3.5.2"
  }
 },
 "nbformat": 4,
 "nbformat_minor": 2
}
